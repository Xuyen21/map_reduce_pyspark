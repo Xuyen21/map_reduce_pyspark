{
 "cells": [
  {
   "cell_type": "code",
   "execution_count": 1,
   "metadata": {},
   "outputs": [],
   "source": [
    "# Import\n",
    "from pyspark.sql import SparkSession\n",
    "import pandas as pd\n",
    "import matplotlib.pyplot as plt\n",
    "from pyspark.sql.functions import col\n",
    "from pyspark.sql.functions import collect_list, collect_set # collect_set return set of values (no duplicate)\n",
    "from pyspark.sql import functions as F\n",
    "from itertools import combinations # not efficient for big data\n",
    "from pyspark.sql.functions import col, udf, explode, size\n",
    "from pyspark.sql.types import ArrayType, StringType\n",
    "import findspark\n",
    "findspark.init()"
   ]
  },
  {
   "cell_type": "code",
   "execution_count": 2,
   "metadata": {},
   "outputs": [
    {
     "name": "stderr",
     "output_type": "stream",
     "text": [
      "25/01/07 07:53:36 WARN Utils: Your hostname, helium resolves to a loopback address: 127.0.1.1; using 10.0.106.13 instead (on interface enp6s0)\n",
      "25/01/07 07:53:36 WARN Utils: Set SPARK_LOCAL_IP if you need to bind to another address\n",
      "Setting default log level to \"WARN\".\n",
      "To adjust logging level use sc.setLogLevel(newLevel). For SparkR, use setLogLevel(newLevel).\n",
      "25/01/07 07:53:37 WARN NativeCodeLoader: Unable to load native-hadoop library for your platform... using builtin-java classes where applicable\n",
      "25/01/07 07:53:38 WARN Utils: Service 'SparkUI' could not bind on port 4040. Attempting port 4041.\n"
     ]
    }
   ],
   "source": [
    "# Create SparkSession\n",
    "spark = SparkSession.builder\\\n",
    "    .master(\"local[*]\") \\\n",
    "    .appName(\"Map Reduce with Pyspark\") \\\n",
    "    .config(\"spark.driver.memory\", \"16g\") \\\n",
    "    .getOrCreate()"
   ]
  },
  {
   "cell_type": "code",
   "execution_count": 5,
   "metadata": {},
   "outputs": [],
   "source": [
    "data_path = \"dataset_sales/joined_all_data.csv\"\n",
    "df = spark.read.csv(data_path, header=True)\n"
   ]
  },
  {
   "cell_type": "code",
   "execution_count": 6,
   "metadata": {},
   "outputs": [
    {
     "name": "stdout",
     "output_type": "stream",
     "text": [
      "+--------+----------+-----------------+---------+--------------------+--------+-------------+--------------------+----------+-------+--------+------------+---------+-----------------+----------------------+\n",
      "|order_id|product_id|add_to_cart_order|reordered|        product_name|aisle_id|department_id|               aisle|department|user_id|eval_set|order_number|order_dow|order_hour_of_day|days_since_prior_order|\n",
      "+--------+----------+-----------------+---------+--------------------+--------+-------------+--------------------+----------+-------+--------+------------+---------+-----------------+----------------------+\n",
      "|       2|     33120|                1|        1|  Organic Egg Whites|      86|           16|                eggs|dairy eggs| 202279|   prior|           3|        5|                9|                   8.0|\n",
      "|       2|     28985|                2|        1|Michigan Organic ...|      83|            4|    fresh vegetables|   produce| 202279|   prior|           3|        5|                9|                   8.0|\n",
      "|       2|      9327|                3|        0|       Garlic Powder|     104|           13|   spices seasonings|    pantry| 202279|   prior|           3|        5|                9|                   8.0|\n",
      "|       2|     45918|                4|        1|      Coconut Butter|      19|           13|       oils vinegars|    pantry| 202279|   prior|           3|        5|                9|                   8.0|\n",
      "|       2|     30035|                5|        0|   Natural Sweetener|      17|           13|  baking ingredients|    pantry| 202279|   prior|           3|        5|                9|                   8.0|\n",
      "|       2|     17794|                6|        1|             Carrots|      83|            4|    fresh vegetables|   produce| 202279|   prior|           3|        5|                9|                   8.0|\n",
      "|       2|     40141|                7|        1|Original Unflavor...|     105|           13|doughs gelatins b...|    pantry| 202279|   prior|           3|        5|                9|                   8.0|\n",
      "|       2|      1819|                8|        1|All Natural No St...|      88|           13|             spreads|    pantry| 202279|   prior|           3|        5|                9|                   8.0|\n",
      "|       2|     43668|                9|        0|Classic Blend Col...|     123|            4|packaged vegetabl...|   produce| 202279|   prior|           3|        5|                9|                   8.0|\n",
      "|       3|     33754|                1|        1|Total 2% with Str...|     120|           16|              yogurt|dairy eggs| 205970|   prior|          16|        5|               17|                  12.0|\n",
      "|       3|     24838|                2|        1|Unsweetened Almon...|      91|           16|     soy lactosefree|dairy eggs| 205970|   prior|          16|        5|               17|                  12.0|\n",
      "|       3|     17704|                3|        1|              Lemons|     123|            4|packaged vegetabl...|   produce| 205970|   prior|          16|        5|               17|                  12.0|\n",
      "+--------+----------+-----------------+---------+--------------------+--------+-------------+--------------------+----------+-------+--------+------------+---------+-----------------+----------------------+\n",
      "only showing top 12 rows\n",
      "\n"
     ]
    }
   ],
   "source": [
    "df.show(12)"
   ]
  },
  {
   "cell_type": "code",
   "execution_count": 8,
   "metadata": {},
   "outputs": [
    {
     "data": {
      "text/plain": [
       "DataFrame[order_id: string, product_id: string, add_to_cart_order: string, reordered: string, product_name: string, aisle_id: string, department_id: string, aisle: string, department: string, user_id: string, eval_set: string, order_number: string, order_dow: string, order_hour_of_day: string, days_since_prior_order: string]"
      ]
     },
     "execution_count": 8,
     "metadata": {},
     "output_type": "execute_result"
    }
   ],
   "source": [
    "# Filter rows where the 'department' column equals 'produce'\n",
    "produce_department = df.filter(df.department == 'produce')\n",
    "produce_department.cache()\n"
   ]
  },
  {
   "cell_type": "code",
   "execution_count": 9,
   "metadata": {},
   "outputs": [
    {
     "name": "stderr",
     "output_type": "stream",
     "text": [
      "                                                                                \r"
     ]
    },
    {
     "data": {
      "text/plain": [
       "9479291"
      ]
     },
     "execution_count": 9,
     "metadata": {},
     "output_type": "execute_result"
    }
   ],
   "source": [
    "produce_department.count()"
   ]
  },
  {
   "cell_type": "code",
   "execution_count": 10,
   "metadata": {},
   "outputs": [
    {
     "name": "stdout",
     "output_type": "stream",
     "text": [
      "+--------+----------+-----------------+---------+--------------------+--------+-------------+--------------------+----------+-------+--------+------------+---------+-----------------+----------------------+\n",
      "|order_id|product_id|add_to_cart_order|reordered|        product_name|aisle_id|department_id|               aisle|department|user_id|eval_set|order_number|order_dow|order_hour_of_day|days_since_prior_order|\n",
      "+--------+----------+-----------------+---------+--------------------+--------+-------------+--------------------+----------+-------+--------+------------+---------+-----------------+----------------------+\n",
      "|       2|     28985|                2|        1|Michigan Organic ...|      83|            4|    fresh vegetables|   produce| 202279|   prior|           3|        5|                9|                   8.0|\n",
      "|       2|     17794|                6|        1|             Carrots|      83|            4|    fresh vegetables|   produce| 202279|   prior|           3|        5|                9|                   8.0|\n",
      "|       2|     43668|                9|        0|Classic Blend Col...|     123|            4|packaged vegetabl...|   produce| 202279|   prior|           3|        5|                9|                   8.0|\n",
      "|       3|     17704|                3|        1|              Lemons|     123|            4|packaged vegetabl...|   produce| 205970|   prior|          16|        5|               17|                  12.0|\n",
      "|       3|     21903|                4|        1|Organic Baby Spinach|     123|            4|packaged vegetabl...|   produce| 205970|   prior|          16|        5|               17|                  12.0|\n",
      "|       3|     46667|                6|        1| Organic Ginger Root|      83|            4|    fresh vegetables|   produce| 205970|   prior|          16|        5|               17|                  12.0|\n",
      "|       5|     13176|                1|        1|Bag of Organic Ba...|      24|            4|        fresh fruits|   produce| 156122|   prior|          42|        6|               16|                   9.0|\n",
      "|       5|     27966|                4|        1| Organic Raspberries|     123|            4|packaged vegetabl...|   produce| 156122|   prior|          42|        6|               16|                   9.0|\n",
      "|       5|      6184|               12|        1|         Clementines|      32|            4|    packaged produce|   produce| 156122|   prior|          42|        6|               16|                   9.0|\n",
      "|       5|     37011|               15|        1|          Artichokes|      83|            4|    fresh vegetables|   produce| 156122|   prior|          42|        6|               16|                   9.0|\n",
      "+--------+----------+-----------------+---------+--------------------+--------+-------------+--------------------+----------+-------+--------+------------+---------+-----------------+----------------------+\n",
      "only showing top 10 rows\n",
      "\n"
     ]
    }
   ],
   "source": [
    "produce_department.show(10)"
   ]
  },
  {
   "cell_type": "markdown",
   "metadata": {},
   "source": [
    "## Grouping orders"
   ]
  },
  {
   "cell_type": "code",
   "execution_count": 34,
   "metadata": {},
   "outputs": [
    {
     "name": "stderr",
     "output_type": "stream",
     "text": [
      "[Stage 64:=============================================>          (26 + 6) / 32]\r"
     ]
    },
    {
     "name": "stdout",
     "output_type": "stream",
     "text": [
      "+--------------------+--------+\n",
      "|        product_name|order_id|\n",
      "+--------------------+--------+\n",
      "|Michigan Organic ...|       2|\n",
      "|             Carrots|       2|\n",
      "|Classic Blend Col...|       2|\n",
      "+--------------------+--------+\n",
      "only showing top 3 rows\n",
      "\n"
     ]
    },
    {
     "name": "stderr",
     "output_type": "stream",
     "text": [
      "                                                                                \r"
     ]
    }
   ],
   "source": [
    "produce_ordered_products = produce_department.select(produce_department['product_name'], produce_department['order_id'])\n",
    "produce_ordered_products.cache()\n",
    "produce_ordered_products.show(3)"
   ]
  },
  {
   "cell_type": "code",
   "execution_count": 33,
   "metadata": {},
   "outputs": [
    {
     "name": "stderr",
     "output_type": "stream",
     "text": [
      "[Stage 61:===========================================>         (164 + 32) / 200]\r"
     ]
    },
    {
     "name": "stdout",
     "output_type": "stream",
     "text": [
      "+--------+--------------------+\n",
      "|order_id|            products|\n",
      "+--------+--------------------+\n",
      "| 1000240|[Organic Baby Aru...|\n",
      "| 1000280|[Organic Hass Avo...|\n",
      "| 1000665|[Organic Cilantro...|\n",
      "| 1000795|[Organic Baby Aru...|\n",
      "| 1000839|[Organic Tomato C...|\n",
      "| 1000888|[Organic Spaghett...|\n",
      "| 1001866|[Organic Baby Spi...|\n",
      "| 1002011|[Organic Baby Spi...|\n",
      "|  100227|[Organic Fuji App...|\n",
      "| 1002442|[Organic Cilantro...|\n",
      "|  100263|            [Banana]|\n",
      "| 1002883|[Organic Romaine ...|\n",
      "| 1002887|      [Carrot Chips]|\n",
      "+--------+--------------------+\n",
      "only showing top 13 rows\n",
      "\n"
     ]
    },
    {
     "name": "stderr",
     "output_type": "stream",
     "text": [
      "                                                                                \r"
     ]
    }
   ],
   "source": [
    "# Group by 'order_id' and collect product names into a set \n",
    "produce_grouped_order_id = produce_ordered_products.groupBy(\"order_id\").agg(F.collect_set(\"product_name\").alias(\"products\"))\n",
    "produce_grouped_order_id.show(13)\n"
   ]
  },
  {
   "cell_type": "markdown",
   "metadata": {},
   "source": [
    "## Select orders that has more from 3 products"
   ]
  },
  {
   "cell_type": "code",
   "execution_count": 38,
   "metadata": {},
   "outputs": [
    {
     "name": "stderr",
     "output_type": "stream",
     "text": [
      "[Stage 78:=====================================================>(197 + 3) / 200]\r"
     ]
    },
    {
     "name": "stdout",
     "output_type": "stream",
     "text": [
      "Count of orders where item_count is smaller than 3 products: 1408241\n"
     ]
    },
    {
     "name": "stderr",
     "output_type": "stream",
     "text": [
      "                                                                                \r"
     ]
    }
   ],
   "source": [
    "# Select only orders contains from 3 products\n",
    "produce_orders_from_3_items = produce_grouped_order_id.filter(F.size(\"products\") > 2)\n",
    "produce_orders_from_3_items.cache()\n",
    "\n",
    "print(\"Count of orders where number of products is more than 2 products:\", produce_orders_from_3_items.count())"
   ]
  },
  {
   "cell_type": "code",
   "execution_count": 40,
   "metadata": {},
   "outputs": [
    {
     "name": "stdout",
     "output_type": "stream",
     "text": [
      "+--------+--------------------+--------------+----------+\n",
      "|order_id|            products|has_duplicates|item_count|\n",
      "+--------+--------------------+--------------+----------+\n",
      "| 1000240|[Organic Baby Aru...|         false|         4|\n",
      "| 1000665|[Organic Cilantro...|         false|        12|\n",
      "| 1000795|[Organic Baby Aru...|         false|         4|\n",
      "| 1000888|[Organic Spaghett...|         false|         5|\n",
      "| 1001866|[Organic Baby Spi...|         false|         3|\n",
      "+--------+--------------------+--------------+----------+\n",
      "only showing top 5 rows\n",
      "\n"
     ]
    }
   ],
   "source": [
    "# Add a new column 'item_count' that contains the length of the list in the 'products' column\n",
    "produce_orders_from_3_items = produce_orders_from_3_items.withColumn(\n",
    "    \"item_count\", F.size(\"products\")\n",
    ")\n",
    "\n",
    "produce_orders_from_3_items.show(5)"
   ]
  },
  {
   "cell_type": "code",
   "execution_count": 41,
   "metadata": {},
   "outputs": [
    {
     "data": {
      "text/plain": [
       "1408241"
      ]
     },
     "execution_count": 41,
     "metadata": {},
     "output_type": "execute_result"
    }
   ],
   "source": [
    "produce_orders_from_3_items.count()"
   ]
  },
  {
   "cell_type": "markdown",
   "metadata": {},
   "source": [
    "## Mapping"
   ]
  },
  {
   "cell_type": "code",
   "execution_count": 42,
   "metadata": {},
   "outputs": [],
   "source": [
    "# Step 1: Define a UDF to generate triplets\n",
    "#The generate_triplets function creates all possible combinations of 3 products from the products column.\n",
    "def generate_triplets(products):\n",
    "    return list(combinations(products, 3))\n",
    "\n",
    "triplets_udf = udf(generate_triplets, ArrayType(ArrayType(StringType())))"
   ]
  },
  {
   "cell_type": "code",
   "execution_count": 43,
   "metadata": {},
   "outputs": [],
   "source": [
    "# Step 2: Apply the UDF to create a column with triplets\n",
    "#\n",
    "grouped_order_id_with_triplets = produce_orders_from_3_items.withColumn(\"triplets\", triplets_udf(col(\"products\")))"
   ]
  },
  {
   "cell_type": "code",
   "execution_count": 44,
   "metadata": {},
   "outputs": [],
   "source": [
    "# Step 3: Explode triplets into separate rows\n",
    "# explode(col(\"triplets\")) flattens the array of triplets into individual rows, where each row represents one triplet.\n",
    "triplets_exploded = grouped_order_id_with_triplets.select(explode(col(\"triplets\")).alias(\"triplet\"))"
   ]
  },
  {
   "cell_type": "code",
   "execution_count": 46,
   "metadata": {},
   "outputs": [
    {
     "name": "stdout",
     "output_type": "stream",
     "text": [
      "+--------------------+\n",
      "|             triplet|\n",
      "+--------------------+\n",
      "|[Organic Baby Aru...|\n",
      "|[Organic Baby Aru...|\n",
      "|[Organic Baby Aru...|\n",
      "|[Organic Baby Spi...|\n",
      "|[Organic Cilantro...|\n",
      "|[Organic Cilantro...|\n",
      "|[Organic Cilantro...|\n",
      "|[Organic Cilantro...|\n",
      "|[Organic Cilantro...|\n",
      "|[Organic Cilantro...|\n",
      "|[Organic Cilantro...|\n",
      "|[Organic Cilantro...|\n",
      "|[Organic Cilantro...|\n",
      "|[Organic Cilantro...|\n",
      "|[Organic Cilantro...|\n",
      "|[Organic Cilantro...|\n",
      "|[Organic Cilantro...|\n",
      "|[Organic Cilantro...|\n",
      "|[Organic Cilantro...|\n",
      "|[Organic Cilantro...|\n",
      "+--------------------+\n",
      "only showing top 20 rows\n",
      "\n"
     ]
    },
    {
     "name": "stderr",
     "output_type": "stream",
     "text": [
      "                                                                                \r"
     ]
    }
   ],
   "source": [
    "triplets_exploded.select('triplet').show()"
   ]
  },
  {
   "cell_type": "markdown",
   "metadata": {},
   "source": [
    "### Reduce"
   ]
  },
  {
   "cell_type": "code",
   "execution_count": 47,
   "metadata": {},
   "outputs": [],
   "source": [
    "# Step 4: Count occurrences of each triplet\n",
    "# groups identical triplets and counts their occurrences across all orders.\n",
    "triplet_counts = triplets_exploded.groupBy(\"triplet\").count()\n"
   ]
  },
  {
   "cell_type": "code",
   "execution_count": 48,
   "metadata": {},
   "outputs": [],
   "source": [
    "# Step 5: Sort by count in descending order\n",
    "top_triplets = triplet_counts.orderBy(col(\"count\").desc())\n"
   ]
  },
  {
   "cell_type": "code",
   "execution_count": 49,
   "metadata": {},
   "outputs": [
    {
     "name": "stderr",
     "output_type": "stream",
     "text": [
      "[Stage 99:=====================================================>  (38 + 2) / 40]\r"
     ]
    },
    {
     "name": "stdout",
     "output_type": "stream",
     "text": [
      "+--------------------+-----+\n",
      "|             triplet|count|\n",
      "+--------------------+-----+\n",
      "|[Organic Strawber...|12312|\n",
      "|[Organic Baby Spi...| 9644|\n",
      "|[Organic Raspberr...| 9525|\n",
      "|[Organic Baby Spi...| 9393|\n",
      "|[Organic Raspberr...| 9274|\n",
      "|[Organic Baby Spi...| 8658|\n",
      "|[Organic Baby Spi...| 8201|\n",
      "|[Organic Baby Spi...| 8137|\n",
      "|[Organic Raspberr...| 7891|\n",
      "|[Large Lemon, Org...| 7044|\n",
      "|[Large Lemon, Lim...| 6182|\n",
      "|[Organic Baby Spi...| 6166|\n",
      "|[Organic Strawber...| 6146|\n",
      "|[Large Lemon, Lim...| 6109|\n",
      "|[Organic Baby Spi...| 6077|\n",
      "|[Limes, Organic A...| 5941|\n",
      "|[Organic Baby Spi...| 5838|\n",
      "|[Organic Baby Spi...| 5829|\n",
      "|[Cucumber Kirby, ...| 5711|\n",
      "|[Organic Raspberr...| 5706|\n",
      "+--------------------+-----+\n",
      "only showing top 20 rows\n",
      "\n"
     ]
    },
    {
     "name": "stderr",
     "output_type": "stream",
     "text": [
      "                                                                                \r"
     ]
    }
   ],
   "source": [
    "top_triplets.show()"
   ]
  },
  {
   "cell_type": "code",
   "execution_count": 50,
   "metadata": {},
   "outputs": [
    {
     "name": "stderr",
     "output_type": "stream",
     "text": [
      "                                                                                \r"
     ]
    },
    {
     "data": {
      "text/plain": [
       "10203741"
      ]
     },
     "execution_count": 50,
     "metadata": {},
     "output_type": "execute_result"
    }
   ],
   "source": [
    "top_triplets.count()"
   ]
  },
  {
   "cell_type": "code",
   "execution_count": 28,
   "metadata": {},
   "outputs": [],
   "source": [
    "# top_3_triplets.write.csv(\"output/top_3_triplets.csv\", header=True)\n"
   ]
  },
  {
   "cell_type": "code",
   "execution_count": 29,
   "metadata": {},
   "outputs": [],
   "source": [
    "# from pyspark.sql.functions import concat_ws\n",
    "\n",
    "# # Convert the array column \"triplet\" into a string column\n",
    "# flattened_triplets = top_3_triplets.withColumn(\"triplet\", concat_ws(\",\", \"triplet\"))\n",
    "\n",
    "# # Save the result to a CSV file\n",
    "# flattened_triplets.write.csv(\"output/top_3_triplets.csv\", header=True)\n"
   ]
  },
  {
   "cell_type": "code",
   "execution_count": 30,
   "metadata": {},
   "outputs": [],
   "source": [
    "# Split the array into separate columns\n",
    "# split_triplets = top_3_triplets.selectExpr(\n",
    "#     \"triplet[0] as product1\", \n",
    "#     \"triplet[1] as product2\", \n",
    "#     \"triplet[2] as product3\", \n",
    "#     \"count\"\n",
    "# )\n",
    "\n",
    "# Save to CSV\n",
    "# split_triplets.write.csv(\"output/top_3_triplets.csv\", header=True)\n"
   ]
  }
 ],
 "metadata": {
  "kernelspec": {
   "display_name": "big_data_venv",
   "language": "python",
   "name": "python3"
  },
  "language_info": {
   "codemirror_mode": {
    "name": "ipython",
    "version": 3
   },
   "file_extension": ".py",
   "mimetype": "text/x-python",
   "name": "python",
   "nbconvert_exporter": "python",
   "pygments_lexer": "ipython3",
   "version": "3.10.12"
  }
 },
 "nbformat": 4,
 "nbformat_minor": 2
}
